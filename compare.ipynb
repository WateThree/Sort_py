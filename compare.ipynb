{
 "cells": [
  {
   "cell_type": "code",
   "execution_count": 27,
   "id": "3dc44e7f",
   "metadata": {},
   "outputs": [
    {
     "name": "stdout",
     "output_type": "stream",
     "text": [
      "ok\n"
     ]
    }
   ],
   "source": [
    "from Sort.Solution import Solution\n",
    "from Sort.Test import Test\n",
    "\n",
    "solution = Solution()\n",
    "sortFuns = [solution.bubbleSort,\n",
    "        solution.quickSort,\n",
    "        solution.insertionSort,\n",
    "        solution.binaryInsertionSort,\n",
    "        solution.shellSort,\n",
    "        solution.selectionSort,\n",
    "        solution.heapSort,\n",
    "        solution.mergeSort,\n",
    "        solution.radixSort]"
   ]
  },
  {
   "cell_type": "code",
   "execution_count": 28,
   "id": "899ca1ed",
   "metadata": {},
   "outputs": [
    {
     "name": "stdout",
     "output_type": "stream",
     "text": [
      "Testing with array length 100:\n",
      "Function bubbleSort completed 1000 Times in 0.369565 seconds.\n",
      "Function quickSort completed 1000 Times in 0.081829 seconds.\n",
      "Function insertionSort completed 1000 Times in 0.134177 seconds.\n",
      "Function binaryInsertionSort completed 1000 Times in 0.113605 seconds.\n",
      "Function shellSort completed 1000 Times in 0.058229 seconds.\n",
      "Function selectionSort completed 1000 Times in 0.132211 seconds.\n",
      "Function heapSort completed 1000 Times in 0.140776 seconds.\n",
      "Function mergeSort completed 1000 Times in 0.083000 seconds.\n",
      "Function radixSort completed 1000 Times in 0.058127 seconds.\n"
     ]
    }
   ],
   "source": [
    "test = Test(len=100)\n",
    "print(\"Testing with array length 100:\")\n",
    "test.RunAll(sortFuns)"
   ]
  },
  {
   "cell_type": "code",
   "execution_count": 29,
   "id": "a1ad77ee",
   "metadata": {},
   "outputs": [
    {
     "name": "stdout",
     "output_type": "stream",
     "text": [
      "Testing with array length 200:\n",
      "Function bubbleSort completed 1000 Times in 1.434225 seconds.\n",
      "Function quickSort completed 1000 Times in 0.180029 seconds.\n",
      "Function insertionSort completed 1000 Times in 0.534695 seconds.\n",
      "Function binaryInsertionSort completed 1000 Times in 0.362902 seconds.\n",
      "Function shellSort completed 1000 Times in 0.136898 seconds.\n",
      "Function selectionSort completed 1000 Times in 0.501950 seconds.\n",
      "Function heapSort completed 1000 Times in 0.313653 seconds.\n",
      "Function mergeSort completed 1000 Times in 0.202148 seconds.\n",
      "Function radixSort completed 1000 Times in 0.110038 seconds.\n"
     ]
    }
   ],
   "source": [
    "test = Test(len = 200)\n",
    "print(\"Testing with array length 200:\")\n",
    "test.RunAll(sortFuns)"
   ]
  },
  {
   "cell_type": "code",
   "execution_count": 30,
   "id": "3ac9a2a5",
   "metadata": {},
   "outputs": [
    {
     "name": "stdout",
     "output_type": "stream",
     "text": [
      "Testing with array length 400:\n",
      "Function bubbleSort completed 1000 Times in 5.803455 seconds.\n",
      "Function quickSort completed 1000 Times in 0.402761 seconds.\n",
      "Function insertionSort completed 1000 Times in 2.055719 seconds.\n",
      "Function binaryInsertionSort completed 1000 Times in 1.289083 seconds.\n",
      "Function shellSort completed 1000 Times in 0.340581 seconds.\n",
      "Function selectionSort completed 1000 Times in 2.081384 seconds.\n",
      "Function heapSort completed 1000 Times in 0.747268 seconds.\n",
      "Function mergeSort completed 1000 Times in 0.438488 seconds.\n",
      "Function radixSort completed 1000 Times in 0.249910 seconds.\n"
     ]
    }
   ],
   "source": [
    "test = Test(len = 400)\n",
    "print(\"Testing with array length 400:\")\n",
    "test.RunAll(sortFuns)"
   ]
  },
  {
   "cell_type": "code",
   "execution_count": 31,
   "id": "298dc647",
   "metadata": {},
   "outputs": [
    {
     "name": "stdout",
     "output_type": "stream",
     "text": [
      "Testing with array length 800:\n",
      "Function bubbleSort completed 1000 Times in 23.975076 seconds.\n",
      "Function quickSort completed 1000 Times in 0.877171 seconds.\n",
      "Function insertionSort completed 1000 Times in 8.766770 seconds.\n",
      "Function binaryInsertionSort completed 1000 Times in 5.218373 seconds.\n",
      "Function shellSort completed 1000 Times in 0.858633 seconds.\n",
      "Function selectionSort completed 1000 Times in 8.311530 seconds.\n",
      "Function heapSort completed 1000 Times in 1.604112 seconds.\n",
      "Function mergeSort completed 1000 Times in 0.920319 seconds.\n",
      "Function radixSort completed 1000 Times in 0.518380 seconds.\n"
     ]
    }
   ],
   "source": [
    "test = Test(len = 800)\n",
    "print(\"Testing with array length 800:\")\n",
    "test.RunAll(sortFuns)"
   ]
  },
  {
   "cell_type": "markdown",
   "id": "496671a9",
   "metadata": {},
   "source": [
    "对于基数排序，数的取值范围也会影响,时间复杂度为O(n+k)"
   ]
  },
  {
   "cell_type": "code",
   "execution_count": 32,
   "id": "f21e6ec0",
   "metadata": {},
   "outputs": [
    {
     "name": "stdout",
     "output_type": "stream",
     "text": [
      "Function radixSort completed 10000 Times in 0.448991 seconds.\n",
      "Function quickSort completed 10000 Times in 0.832396 seconds.\n"
     ]
    }
   ],
   "source": [
    "test = Test(sortTimes=10000,maxNum=100)\n",
    "test.run(solution.radixSort)\n",
    "test.run(solution.quickSort)"
   ]
  },
  {
   "cell_type": "code",
   "execution_count": 33,
   "id": "010c2414",
   "metadata": {},
   "outputs": [
    {
     "name": "stdout",
     "output_type": "stream",
     "text": [
      "Function radixSort completed 10000 Times in 0.681970 seconds.\n",
      "Function quickSort completed 10000 Times in 0.810945 seconds.\n"
     ]
    }
   ],
   "source": [
    "test = Test(sortTimes=10000,maxNum=10000)\n",
    "test.run(solution.radixSort)\n",
    "test.run(solution.quickSort)"
   ]
  },
  {
   "cell_type": "code",
   "execution_count": 34,
   "id": "b0f3fdf1",
   "metadata": {},
   "outputs": [
    {
     "name": "stdout",
     "output_type": "stream",
     "text": [
      "Function radixSort completed 10000 Times in 0.992205 seconds.\n",
      "Function quickSort completed 10000 Times in 0.796942 seconds.\n"
     ]
    }
   ],
   "source": [
    "test = Test(sortTimes=10000,maxNum=1000000)\n",
    "test.run(solution.radixSort)\n",
    "test.run(solution.quickSort)"
   ]
  }
 ],
 "metadata": {
  "kernelspec": {
   "display_name": "Python 3",
   "language": "python",
   "name": "python3"
  },
  "language_info": {
   "codemirror_mode": {
    "name": "ipython",
    "version": 3
   },
   "file_extension": ".py",
   "mimetype": "text/x-python",
   "name": "python",
   "nbconvert_exporter": "python",
   "pygments_lexer": "ipython3",
   "version": "3.10.8"
  }
 },
 "nbformat": 4,
 "nbformat_minor": 5
}
