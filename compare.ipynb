{
 "cells": [
  {
   "cell_type": "code",
   "execution_count": 1,
   "id": "3dc44e7f",
   "metadata": {},
   "outputs": [
    {
     "name": "stdout",
     "output_type": "stream",
     "text": [
      "ok\n"
     ]
    }
   ],
   "source": [
    "from Sort.Solution import Solution\n",
    "from Sort.Test import Test\n",
    "\n",
    "solution = Solution()\n",
    "sortFuns = [solution.bubbleSort,\n",
    "        solution.quickSort,\n",
    "        solution.insertionSort,\n",
    "        solution.binaryInsertionSort,\n",
    "        solution.shellSort,\n",
    "        solution.selectionSort,\n",
    "        solution.heapSort,\n",
    "        solution.mergeSort,\n",
    "        solution.radixSort]"
   ]
  },
  {
   "cell_type": "code",
   "execution_count": 2,
   "id": "899ca1ed",
   "metadata": {},
   "outputs": [
    {
     "name": "stdout",
     "output_type": "stream",
     "text": [
      "Testing with array length 100:\n",
      "Function bubbleSort completed 1000 Times in 0.371509 seconds.\n",
      "Function quickSort completed 1000 Times in 0.085682 seconds.\n",
      "Function insertionSort completed 1000 Times in 0.134380 seconds.\n",
      "Function binaryInsertionSort completed 1000 Times in 0.118800 seconds.\n",
      "Function shellSort completed 1000 Times in 0.057719 seconds.\n",
      "Function selectionSort completed 1000 Times in 0.136099 seconds.\n",
      "Function heapSort completed 1000 Times in 0.129400 seconds.\n",
      "Function mergeSort completed 1000 Times in 0.089482 seconds.\n",
      "Function radixSort completed 1000 Times in 0.069027 seconds.\n"
     ]
    }
   ],
   "source": [
    "test = Test(len=100)\n",
    "print(\"Testing with array length 100:\")\n",
    "test.RunAll(sortFuns)"
   ]
  },
  {
   "cell_type": "code",
   "execution_count": 3,
   "id": "a1ad77ee",
   "metadata": {},
   "outputs": [
    {
     "name": "stdout",
     "output_type": "stream",
     "text": [
      "Testing with array length 200:\n",
      "Function bubbleSort completed 1000 Times in 1.469668 seconds.\n",
      "Function quickSort completed 1000 Times in 0.175639 seconds.\n",
      "Function insertionSort completed 1000 Times in 0.517149 seconds.\n",
      "Function binaryInsertionSort completed 1000 Times in 0.361096 seconds.\n",
      "Function shellSort completed 1000 Times in 0.138712 seconds.\n",
      "Function selectionSort completed 1000 Times in 0.498376 seconds.\n",
      "Function heapSort completed 1000 Times in 0.329097 seconds.\n",
      "Function mergeSort completed 1000 Times in 0.193887 seconds.\n",
      "Function radixSort completed 1000 Times in 0.138151 seconds.\n"
     ]
    }
   ],
   "source": [
    "test = Test(len = 200)\n",
    "print(\"Testing with array length 200:\")\n",
    "test.RunAll(sortFuns)"
   ]
  },
  {
   "cell_type": "code",
   "execution_count": 4,
   "id": "3ac9a2a5",
   "metadata": {},
   "outputs": [
    {
     "name": "stdout",
     "output_type": "stream",
     "text": [
      "Testing with array length 400:\n",
      "Function bubbleSort completed 1000 Times in 5.779873 seconds.\n",
      "Function quickSort completed 1000 Times in 0.399829 seconds.\n",
      "Function insertionSort completed 1000 Times in 2.054591 seconds.\n",
      "Function binaryInsertionSort completed 1000 Times in 1.315250 seconds.\n",
      "Function shellSort completed 1000 Times in 0.344483 seconds.\n",
      "Function selectionSort completed 1000 Times in 2.028584 seconds.\n",
      "Function heapSort completed 1000 Times in 0.725063 seconds.\n",
      "Function mergeSort completed 1000 Times in 0.418044 seconds.\n",
      "Function radixSort completed 1000 Times in 0.279741 seconds.\n"
     ]
    }
   ],
   "source": [
    "test = Test(len = 400)\n",
    "print(\"Testing with array length 400:\")\n",
    "test.RunAll(sortFuns)"
   ]
  },
  {
   "cell_type": "code",
   "execution_count": 5,
   "id": "298dc647",
   "metadata": {},
   "outputs": [
    {
     "name": "stdout",
     "output_type": "stream",
     "text": [
      "Testing with array length 800:\n",
      "Function bubbleSort completed 1000 Times in 23.965947 seconds.\n",
      "Function quickSort completed 1000 Times in 0.832464 seconds.\n",
      "Function insertionSort completed 1000 Times in 8.744202 seconds.\n",
      "Function binaryInsertionSort completed 1000 Times in 5.261089 seconds.\n",
      "Function shellSort completed 1000 Times in 0.875089 seconds.\n",
      "Function selectionSort completed 1000 Times in 8.146841 seconds.\n",
      "Function heapSort completed 1000 Times in 1.601727 seconds.\n",
      "Function mergeSort completed 1000 Times in 0.923939 seconds.\n",
      "Function radixSort completed 1000 Times in 0.600274 seconds.\n"
     ]
    }
   ],
   "source": [
    "test = Test(len = 800)\n",
    "print(\"Testing with array length 800:\")\n",
    "test.RunAll(sortFuns)"
   ]
  },
  {
   "cell_type": "markdown",
   "id": "496671a9",
   "metadata": {},
   "source": [
    "对于基数排序，数的取值范围也会影响,时间复杂度为O(n+k)"
   ]
  },
  {
   "cell_type": "code",
   "execution_count": 6,
   "id": "f21e6ec0",
   "metadata": {},
   "outputs": [
    {
     "name": "stdout",
     "output_type": "stream",
     "text": [
      "Function radixSort completed 10000 Times in 0.586631 seconds.\n",
      "Function quickSort completed 10000 Times in 0.850930 seconds.\n"
     ]
    }
   ],
   "source": [
    "test = Test(sortTimes=10000,maxNum=100)\n",
    "test.run(solution.radixSort)\n",
    "test.run(solution.quickSort)"
   ]
  },
  {
   "cell_type": "code",
   "execution_count": 7,
   "id": "010c2414",
   "metadata": {},
   "outputs": [
    {
     "name": "stdout",
     "output_type": "stream",
     "text": [
      "Function radixSort completed 10000 Times in 0.833357 seconds.\n",
      "Function quickSort completed 10000 Times in 0.799915 seconds.\n"
     ]
    }
   ],
   "source": [
    "test = Test(sortTimes=10000,maxNum=10000)\n",
    "test.run(solution.radixSort)\n",
    "test.run(solution.quickSort)"
   ]
  },
  {
   "cell_type": "code",
   "execution_count": 8,
   "id": "b0f3fdf1",
   "metadata": {},
   "outputs": [
    {
     "name": "stdout",
     "output_type": "stream",
     "text": [
      "Function radixSort completed 10000 Times in 1.219687 seconds.\n",
      "Function quickSort completed 10000 Times in 0.809909 seconds.\n"
     ]
    }
   ],
   "source": [
    "test = Test(sortTimes=10000,maxNum=1000000)\n",
    "test.run(solution.radixSort)\n",
    "test.run(solution.quickSort)"
   ]
  },
  {
   "cell_type": "code",
   "execution_count": 9,
   "id": "1a0d64da",
   "metadata": {},
   "outputs": [
    {
     "name": "stdout",
     "output_type": "stream",
     "text": [
      "Function radixSort completed 10000 Times in 1.586892 seconds.\n",
      "Function quickSort completed 10000 Times in 0.815308 seconds.\n"
     ]
    }
   ],
   "source": [
    "test = Test(sortTimes=10000,maxNum=100000000)\n",
    "test.run(solution.radixSort)\n",
    "test.run(solution.quickSort)"
   ]
  }
 ],
 "metadata": {
  "kernelspec": {
   "display_name": "Python 3",
   "language": "python",
   "name": "python3"
  },
  "language_info": {
   "codemirror_mode": {
    "name": "ipython",
    "version": 3
   },
   "file_extension": ".py",
   "mimetype": "text/x-python",
   "name": "python",
   "nbconvert_exporter": "python",
   "pygments_lexer": "ipython3",
   "version": "3.10.8"
  }
 },
 "nbformat": 4,
 "nbformat_minor": 5
}
